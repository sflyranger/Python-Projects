{
 "cells": [
  {
   "cell_type": "markdown",
   "id": "aeba9422",
   "metadata": {
    "papermill": {
     "duration": 0.012927,
     "end_time": "2024-03-31T00:11:26.348796",
     "exception": false,
     "start_time": "2024-03-31T00:11:26.335869",
     "status": "completed"
    },
    "tags": []
   },
   "source": [
    "**This notebook is an exercise in the [Intermediate Machine Learning](https://www.kaggle.com/learn/intermediate-machine-learning) course.  You can reference the tutorial at [this link](https://www.kaggle.com/alexisbcook/missing-values).**\n",
    "\n",
    "---\n"
   ]
  },
  {
   "cell_type": "markdown",
   "id": "30a705ff",
   "metadata": {
    "papermill": {
     "duration": 0.010952,
     "end_time": "2024-03-31T00:11:26.371213",
     "exception": false,
     "start_time": "2024-03-31T00:11:26.360261",
     "status": "completed"
    },
    "tags": []
   },
   "source": [
    "Now it's your turn to test your new knowledge of **missing values** handling. You'll probably find it makes a big difference.\n",
    "\n",
    "# Setup\n",
    "\n",
    "The questions will give you feedback on your work. Run the following cell to set up the feedback system."
   ]
  },
  {
   "cell_type": "code",
   "execution_count": 1,
   "id": "5ef9e933",
   "metadata": {
    "execution": {
     "iopub.execute_input": "2024-03-31T00:11:26.396185Z",
     "iopub.status.busy": "2024-03-31T00:11:26.395681Z",
     "iopub.status.idle": "2024-03-31T00:11:27.273530Z",
     "shell.execute_reply": "2024-03-31T00:11:27.272079Z"
    },
    "papermill": {
     "duration": 0.8935,
     "end_time": "2024-03-31T00:11:27.275973",
     "exception": false,
     "start_time": "2024-03-31T00:11:26.382473",
     "status": "completed"
    },
    "tags": []
   },
   "outputs": [
    {
     "name": "stdout",
     "output_type": "stream",
     "text": [
      "Setup Complete\n"
     ]
    }
   ],
   "source": [
    "# Set up code checking\n",
    "import os\n",
    "if not os.path.exists(\"../input/train.csv\"):\n",
    "    os.symlink(\"../input/home-data-for-ml-course/train.csv\", \"../input/train.csv\")  \n",
    "    os.symlink(\"../input/home-data-for-ml-course/test.csv\", \"../input/test.csv\") \n",
    "from learntools.core import binder\n",
    "binder.bind(globals())\n",
    "from learntools.ml_intermediate.ex2 import *\n",
    "print(\"Setup Complete\")"
   ]
  },
  {
   "cell_type": "markdown",
   "id": "2aa98440",
   "metadata": {
    "papermill": {
     "duration": 0.010917,
     "end_time": "2024-03-31T00:11:27.298375",
     "exception": false,
     "start_time": "2024-03-31T00:11:27.287458",
     "status": "completed"
    },
    "tags": []
   },
   "source": [
    "In this exercise, you will work with data from the [Housing Prices Competition for Kaggle Learn Users](https://www.kaggle.com/c/home-data-for-ml-course). \n",
    "\n",
    "![Ames Housing dataset image](https://storage.googleapis.com/kaggle-media/learn/images/lTJVG4e.png)\n",
    "\n",
    "Run the next code cell without changes to load the training and validation sets in `X_train`, `X_valid`, `y_train`, and `y_valid`.  The test set is loaded in `X_test`."
   ]
  },
  {
   "cell_type": "code",
   "execution_count": 2,
   "id": "df8c2648",
   "metadata": {
    "execution": {
     "iopub.execute_input": "2024-03-31T00:11:27.323254Z",
     "iopub.status.busy": "2024-03-31T00:11:27.322728Z",
     "iopub.status.idle": "2024-03-31T00:11:28.775670Z",
     "shell.execute_reply": "2024-03-31T00:11:28.774576Z"
    },
    "papermill": {
     "duration": 1.4692,
     "end_time": "2024-03-31T00:11:28.779122",
     "exception": false,
     "start_time": "2024-03-31T00:11:27.309922",
     "status": "completed"
    },
    "tags": []
   },
   "outputs": [
    {
     "name": "stdout",
     "output_type": "stream",
     "text": [
      "      MSSubClass MSZoning  LotFrontage  LotArea Street Alley LotShape  \\\n",
      "Id                                                                      \n",
      "1             60       RL         65.0     8450   Pave   NaN      Reg   \n",
      "2             20       RL         80.0     9600   Pave   NaN      Reg   \n",
      "3             60       RL         68.0    11250   Pave   NaN      IR1   \n",
      "4             70       RL         60.0     9550   Pave   NaN      IR1   \n",
      "5             60       RL         84.0    14260   Pave   NaN      IR1   \n",
      "...          ...      ...          ...      ...    ...   ...      ...   \n",
      "1456          60       RL         62.0     7917   Pave   NaN      Reg   \n",
      "1457          20       RL         85.0    13175   Pave   NaN      Reg   \n",
      "1458          70       RL         66.0     9042   Pave   NaN      Reg   \n",
      "1459          20       RL         68.0     9717   Pave   NaN      Reg   \n",
      "1460          20       RL         75.0     9937   Pave   NaN      Reg   \n",
      "\n",
      "     LandContour Utilities LotConfig  ... PoolArea PoolQC  Fence MiscFeature  \\\n",
      "Id                                    ...                                      \n",
      "1            Lvl    AllPub    Inside  ...        0    NaN    NaN         NaN   \n",
      "2            Lvl    AllPub       FR2  ...        0    NaN    NaN         NaN   \n",
      "3            Lvl    AllPub    Inside  ...        0    NaN    NaN         NaN   \n",
      "4            Lvl    AllPub    Corner  ...        0    NaN    NaN         NaN   \n",
      "5            Lvl    AllPub       FR2  ...        0    NaN    NaN         NaN   \n",
      "...          ...       ...       ...  ...      ...    ...    ...         ...   \n",
      "1456         Lvl    AllPub    Inside  ...        0    NaN    NaN         NaN   \n",
      "1457         Lvl    AllPub    Inside  ...        0    NaN  MnPrv         NaN   \n",
      "1458         Lvl    AllPub    Inside  ...        0    NaN  GdPrv        Shed   \n",
      "1459         Lvl    AllPub    Inside  ...        0    NaN    NaN         NaN   \n",
      "1460         Lvl    AllPub    Inside  ...        0    NaN    NaN         NaN   \n",
      "\n",
      "     MiscVal MoSold  YrSold  SaleType  SaleCondition  SalePrice  \n",
      "Id                                                               \n",
      "1          0      2    2008        WD         Normal     208500  \n",
      "2          0      5    2007        WD         Normal     181500  \n",
      "3          0      9    2008        WD         Normal     223500  \n",
      "4          0      2    2006        WD        Abnorml     140000  \n",
      "5          0     12    2008        WD         Normal     250000  \n",
      "...      ...    ...     ...       ...            ...        ...  \n",
      "1456       0      8    2007        WD         Normal     175000  \n",
      "1457       0      2    2010        WD         Normal     210000  \n",
      "1458    2500      5    2010        WD         Normal     266500  \n",
      "1459       0      4    2010        WD         Normal     142125  \n",
      "1460       0      6    2008        WD         Normal     147500  \n",
      "\n",
      "[1460 rows x 80 columns]\n",
      "      MSSubClass MSZoning  LotFrontage  LotArea Street Alley LotShape  \\\n",
      "Id                                                                      \n",
      "1             60       RL         65.0     8450   Pave   NaN      Reg   \n",
      "2             20       RL         80.0     9600   Pave   NaN      Reg   \n",
      "3             60       RL         68.0    11250   Pave   NaN      IR1   \n",
      "4             70       RL         60.0     9550   Pave   NaN      IR1   \n",
      "5             60       RL         84.0    14260   Pave   NaN      IR1   \n",
      "...          ...      ...          ...      ...    ...   ...      ...   \n",
      "1456          60       RL         62.0     7917   Pave   NaN      Reg   \n",
      "1457          20       RL         85.0    13175   Pave   NaN      Reg   \n",
      "1458          70       RL         66.0     9042   Pave   NaN      Reg   \n",
      "1459          20       RL         68.0     9717   Pave   NaN      Reg   \n",
      "1460          20       RL         75.0     9937   Pave   NaN      Reg   \n",
      "\n",
      "     LandContour Utilities LotConfig  ... PoolArea PoolQC  Fence MiscFeature  \\\n",
      "Id                                    ...                                      \n",
      "1            Lvl    AllPub    Inside  ...        0    NaN    NaN         NaN   \n",
      "2            Lvl    AllPub       FR2  ...        0    NaN    NaN         NaN   \n",
      "3            Lvl    AllPub    Inside  ...        0    NaN    NaN         NaN   \n",
      "4            Lvl    AllPub    Corner  ...        0    NaN    NaN         NaN   \n",
      "5            Lvl    AllPub       FR2  ...        0    NaN    NaN         NaN   \n",
      "...          ...       ...       ...  ...      ...    ...    ...         ...   \n",
      "1456         Lvl    AllPub    Inside  ...        0    NaN    NaN         NaN   \n",
      "1457         Lvl    AllPub    Inside  ...        0    NaN  MnPrv         NaN   \n",
      "1458         Lvl    AllPub    Inside  ...        0    NaN  GdPrv        Shed   \n",
      "1459         Lvl    AllPub    Inside  ...        0    NaN    NaN         NaN   \n",
      "1460         Lvl    AllPub    Inside  ...        0    NaN    NaN         NaN   \n",
      "\n",
      "     MiscVal MoSold  YrSold  SaleType  SaleCondition  SalePrice  \n",
      "Id                                                               \n",
      "1          0      2    2008        WD         Normal     208500  \n",
      "2          0      5    2007        WD         Normal     181500  \n",
      "3          0      9    2008        WD         Normal     223500  \n",
      "4          0      2    2006        WD        Abnorml     140000  \n",
      "5          0     12    2008        WD         Normal     250000  \n",
      "...      ...    ...     ...       ...            ...        ...  \n",
      "1456       0      8    2007        WD         Normal     175000  \n",
      "1457       0      2    2010        WD         Normal     210000  \n",
      "1458    2500      5    2010        WD         Normal     266500  \n",
      "1459       0      4    2010        WD         Normal     142125  \n",
      "1460       0      6    2008        WD         Normal     147500  \n",
      "\n",
      "[1460 rows x 80 columns]\n",
      "Id\n",
      "1       208500\n",
      "2       181500\n",
      "3       223500\n",
      "4       140000\n",
      "5       250000\n",
      "         ...  \n",
      "1456    175000\n",
      "1457    210000\n",
      "1458    266500\n",
      "1459    142125\n",
      "1460    147500\n",
      "Name: SalePrice, Length: 1460, dtype: int64\n",
      "      MSSubClass MSZoning  LotFrontage  LotArea Street Alley LotShape  \\\n",
      "Id                                                                      \n",
      "1             60       RL         65.0     8450   Pave   NaN      Reg   \n",
      "2             20       RL         80.0     9600   Pave   NaN      Reg   \n",
      "3             60       RL         68.0    11250   Pave   NaN      IR1   \n",
      "4             70       RL         60.0     9550   Pave   NaN      IR1   \n",
      "5             60       RL         84.0    14260   Pave   NaN      IR1   \n",
      "...          ...      ...          ...      ...    ...   ...      ...   \n",
      "1456          60       RL         62.0     7917   Pave   NaN      Reg   \n",
      "1457          20       RL         85.0    13175   Pave   NaN      Reg   \n",
      "1458          70       RL         66.0     9042   Pave   NaN      Reg   \n",
      "1459          20       RL         68.0     9717   Pave   NaN      Reg   \n",
      "1460          20       RL         75.0     9937   Pave   NaN      Reg   \n",
      "\n",
      "     LandContour Utilities LotConfig  ... ScreenPorch PoolArea PoolQC  Fence  \\\n",
      "Id                                    ...                                      \n",
      "1            Lvl    AllPub    Inside  ...           0        0    NaN    NaN   \n",
      "2            Lvl    AllPub       FR2  ...           0        0    NaN    NaN   \n",
      "3            Lvl    AllPub    Inside  ...           0        0    NaN    NaN   \n",
      "4            Lvl    AllPub    Corner  ...           0        0    NaN    NaN   \n",
      "5            Lvl    AllPub       FR2  ...           0        0    NaN    NaN   \n",
      "...          ...       ...       ...  ...         ...      ...    ...    ...   \n",
      "1456         Lvl    AllPub    Inside  ...           0        0    NaN    NaN   \n",
      "1457         Lvl    AllPub    Inside  ...           0        0    NaN  MnPrv   \n",
      "1458         Lvl    AllPub    Inside  ...           0        0    NaN  GdPrv   \n",
      "1459         Lvl    AllPub    Inside  ...           0        0    NaN    NaN   \n",
      "1460         Lvl    AllPub    Inside  ...           0        0    NaN    NaN   \n",
      "\n",
      "     MiscFeature MiscVal  MoSold  YrSold  SaleType  SaleCondition  \n",
      "Id                                                                 \n",
      "1            NaN       0       2    2008        WD         Normal  \n",
      "2            NaN       0       5    2007        WD         Normal  \n",
      "3            NaN       0       9    2008        WD         Normal  \n",
      "4            NaN       0       2    2006        WD        Abnorml  \n",
      "5            NaN       0      12    2008        WD         Normal  \n",
      "...          ...     ...     ...     ...       ...            ...  \n",
      "1456         NaN       0       8    2007        WD         Normal  \n",
      "1457         NaN       0       2    2010        WD         Normal  \n",
      "1458        Shed    2500       5    2010        WD         Normal  \n",
      "1459         NaN       0       4    2010        WD         Normal  \n",
      "1460         NaN       0       6    2008        WD         Normal  \n",
      "\n",
      "[1460 rows x 79 columns]\n"
     ]
    }
   ],
   "source": [
    "import pandas as pd\n",
    "from sklearn.model_selection import train_test_split\n",
    "\n",
    "# Read the data\n",
    "X_full = pd.read_csv('../input/train.csv', index_col='Id')\n",
    "X_test_full = pd.read_csv('../input/test.csv', index_col='Id')\n",
    "print(X_full)\n",
    "# Remove rows with missing target, separate target from predictors\n",
    "X_full.dropna(axis=0, subset=['SalePrice'], inplace=True)\n",
    "print(X_full)\n",
    "y = X_full.SalePrice\n",
    "print(y)\n",
    "X_full.drop(['SalePrice'], axis=1, inplace=True)\n",
    "print(X_full)\n",
    "\n",
    "# To keep things simple, we'll use only numerical predictors\n",
    "X = X_full.select_dtypes(exclude=['object'])\n",
    "X_test = X_test_full.select_dtypes(exclude=['object'])\n",
    "\n",
    "# Break off validation set from training data\n",
    "X_train, X_valid, y_train, y_valid = train_test_split(X, y, train_size=0.8, test_size=0.2,\n",
    "                                                      random_state=0)"
   ]
  },
  {
   "cell_type": "markdown",
   "id": "e4d64521",
   "metadata": {
    "papermill": {
     "duration": 0.01193,
     "end_time": "2024-03-31T00:11:28.802932",
     "exception": false,
     "start_time": "2024-03-31T00:11:28.791002",
     "status": "completed"
    },
    "tags": []
   },
   "source": [
    "Use the next code cell to print the first five rows of the data."
   ]
  },
  {
   "cell_type": "code",
   "execution_count": 3,
   "id": "55119001",
   "metadata": {
    "execution": {
     "iopub.execute_input": "2024-03-31T00:11:28.828382Z",
     "iopub.status.busy": "2024-03-31T00:11:28.827943Z",
     "iopub.status.idle": "2024-03-31T00:11:28.852843Z",
     "shell.execute_reply": "2024-03-31T00:11:28.851794Z"
    },
    "papermill": {
     "duration": 0.04063,
     "end_time": "2024-03-31T00:11:28.855412",
     "exception": false,
     "start_time": "2024-03-31T00:11:28.814782",
     "status": "completed"
    },
    "tags": []
   },
   "outputs": [
    {
     "data": {
      "text/html": [
       "<div>\n",
       "<style scoped>\n",
       "    .dataframe tbody tr th:only-of-type {\n",
       "        vertical-align: middle;\n",
       "    }\n",
       "\n",
       "    .dataframe tbody tr th {\n",
       "        vertical-align: top;\n",
       "    }\n",
       "\n",
       "    .dataframe thead th {\n",
       "        text-align: right;\n",
       "    }\n",
       "</style>\n",
       "<table border=\"1\" class=\"dataframe\">\n",
       "  <thead>\n",
       "    <tr style=\"text-align: right;\">\n",
       "      <th></th>\n",
       "      <th>MSSubClass</th>\n",
       "      <th>LotFrontage</th>\n",
       "      <th>LotArea</th>\n",
       "      <th>OverallQual</th>\n",
       "      <th>OverallCond</th>\n",
       "      <th>YearBuilt</th>\n",
       "      <th>YearRemodAdd</th>\n",
       "      <th>MasVnrArea</th>\n",
       "      <th>BsmtFinSF1</th>\n",
       "      <th>BsmtFinSF2</th>\n",
       "      <th>...</th>\n",
       "      <th>GarageArea</th>\n",
       "      <th>WoodDeckSF</th>\n",
       "      <th>OpenPorchSF</th>\n",
       "      <th>EnclosedPorch</th>\n",
       "      <th>3SsnPorch</th>\n",
       "      <th>ScreenPorch</th>\n",
       "      <th>PoolArea</th>\n",
       "      <th>MiscVal</th>\n",
       "      <th>MoSold</th>\n",
       "      <th>YrSold</th>\n",
       "    </tr>\n",
       "    <tr>\n",
       "      <th>Id</th>\n",
       "      <th></th>\n",
       "      <th></th>\n",
       "      <th></th>\n",
       "      <th></th>\n",
       "      <th></th>\n",
       "      <th></th>\n",
       "      <th></th>\n",
       "      <th></th>\n",
       "      <th></th>\n",
       "      <th></th>\n",
       "      <th></th>\n",
       "      <th></th>\n",
       "      <th></th>\n",
       "      <th></th>\n",
       "      <th></th>\n",
       "      <th></th>\n",
       "      <th></th>\n",
       "      <th></th>\n",
       "      <th></th>\n",
       "      <th></th>\n",
       "      <th></th>\n",
       "    </tr>\n",
       "  </thead>\n",
       "  <tbody>\n",
       "    <tr>\n",
       "      <th>619</th>\n",
       "      <td>20</td>\n",
       "      <td>90.0</td>\n",
       "      <td>11694</td>\n",
       "      <td>9</td>\n",
       "      <td>5</td>\n",
       "      <td>2007</td>\n",
       "      <td>2007</td>\n",
       "      <td>452.0</td>\n",
       "      <td>48</td>\n",
       "      <td>0</td>\n",
       "      <td>...</td>\n",
       "      <td>774</td>\n",
       "      <td>0</td>\n",
       "      <td>108</td>\n",
       "      <td>0</td>\n",
       "      <td>0</td>\n",
       "      <td>260</td>\n",
       "      <td>0</td>\n",
       "      <td>0</td>\n",
       "      <td>7</td>\n",
       "      <td>2007</td>\n",
       "    </tr>\n",
       "    <tr>\n",
       "      <th>871</th>\n",
       "      <td>20</td>\n",
       "      <td>60.0</td>\n",
       "      <td>6600</td>\n",
       "      <td>5</td>\n",
       "      <td>5</td>\n",
       "      <td>1962</td>\n",
       "      <td>1962</td>\n",
       "      <td>0.0</td>\n",
       "      <td>0</td>\n",
       "      <td>0</td>\n",
       "      <td>...</td>\n",
       "      <td>308</td>\n",
       "      <td>0</td>\n",
       "      <td>0</td>\n",
       "      <td>0</td>\n",
       "      <td>0</td>\n",
       "      <td>0</td>\n",
       "      <td>0</td>\n",
       "      <td>0</td>\n",
       "      <td>8</td>\n",
       "      <td>2009</td>\n",
       "    </tr>\n",
       "    <tr>\n",
       "      <th>93</th>\n",
       "      <td>30</td>\n",
       "      <td>80.0</td>\n",
       "      <td>13360</td>\n",
       "      <td>5</td>\n",
       "      <td>7</td>\n",
       "      <td>1921</td>\n",
       "      <td>2006</td>\n",
       "      <td>0.0</td>\n",
       "      <td>713</td>\n",
       "      <td>0</td>\n",
       "      <td>...</td>\n",
       "      <td>432</td>\n",
       "      <td>0</td>\n",
       "      <td>0</td>\n",
       "      <td>44</td>\n",
       "      <td>0</td>\n",
       "      <td>0</td>\n",
       "      <td>0</td>\n",
       "      <td>0</td>\n",
       "      <td>8</td>\n",
       "      <td>2009</td>\n",
       "    </tr>\n",
       "    <tr>\n",
       "      <th>818</th>\n",
       "      <td>20</td>\n",
       "      <td>NaN</td>\n",
       "      <td>13265</td>\n",
       "      <td>8</td>\n",
       "      <td>5</td>\n",
       "      <td>2002</td>\n",
       "      <td>2002</td>\n",
       "      <td>148.0</td>\n",
       "      <td>1218</td>\n",
       "      <td>0</td>\n",
       "      <td>...</td>\n",
       "      <td>857</td>\n",
       "      <td>150</td>\n",
       "      <td>59</td>\n",
       "      <td>0</td>\n",
       "      <td>0</td>\n",
       "      <td>0</td>\n",
       "      <td>0</td>\n",
       "      <td>0</td>\n",
       "      <td>7</td>\n",
       "      <td>2008</td>\n",
       "    </tr>\n",
       "    <tr>\n",
       "      <th>303</th>\n",
       "      <td>20</td>\n",
       "      <td>118.0</td>\n",
       "      <td>13704</td>\n",
       "      <td>7</td>\n",
       "      <td>5</td>\n",
       "      <td>2001</td>\n",
       "      <td>2002</td>\n",
       "      <td>150.0</td>\n",
       "      <td>0</td>\n",
       "      <td>0</td>\n",
       "      <td>...</td>\n",
       "      <td>843</td>\n",
       "      <td>468</td>\n",
       "      <td>81</td>\n",
       "      <td>0</td>\n",
       "      <td>0</td>\n",
       "      <td>0</td>\n",
       "      <td>0</td>\n",
       "      <td>0</td>\n",
       "      <td>1</td>\n",
       "      <td>2006</td>\n",
       "    </tr>\n",
       "  </tbody>\n",
       "</table>\n",
       "<p>5 rows × 36 columns</p>\n",
       "</div>"
      ],
      "text/plain": [
       "     MSSubClass  LotFrontage  LotArea  OverallQual  OverallCond  YearBuilt  \\\n",
       "Id                                                                           \n",
       "619          20         90.0    11694            9            5       2007   \n",
       "871          20         60.0     6600            5            5       1962   \n",
       "93           30         80.0    13360            5            7       1921   \n",
       "818          20          NaN    13265            8            5       2002   \n",
       "303          20        118.0    13704            7            5       2001   \n",
       "\n",
       "     YearRemodAdd  MasVnrArea  BsmtFinSF1  BsmtFinSF2  ...  GarageArea  \\\n",
       "Id                                                     ...               \n",
       "619          2007       452.0          48           0  ...         774   \n",
       "871          1962         0.0           0           0  ...         308   \n",
       "93           2006         0.0         713           0  ...         432   \n",
       "818          2002       148.0        1218           0  ...         857   \n",
       "303          2002       150.0           0           0  ...         843   \n",
       "\n",
       "     WoodDeckSF  OpenPorchSF  EnclosedPorch  3SsnPorch  ScreenPorch  PoolArea  \\\n",
       "Id                                                                              \n",
       "619           0          108              0          0          260         0   \n",
       "871           0            0              0          0            0         0   \n",
       "93            0            0             44          0            0         0   \n",
       "818         150           59              0          0            0         0   \n",
       "303         468           81              0          0            0         0   \n",
       "\n",
       "     MiscVal  MoSold  YrSold  \n",
       "Id                            \n",
       "619        0       7    2007  \n",
       "871        0       8    2009  \n",
       "93         0       8    2009  \n",
       "818        0       7    2008  \n",
       "303        0       1    2006  \n",
       "\n",
       "[5 rows x 36 columns]"
      ]
     },
     "execution_count": 3,
     "metadata": {},
     "output_type": "execute_result"
    }
   ],
   "source": [
    "X_train.head()"
   ]
  },
  {
   "cell_type": "markdown",
   "id": "abc61e48",
   "metadata": {
    "papermill": {
     "duration": 0.011706,
     "end_time": "2024-03-31T00:11:28.880141",
     "exception": false,
     "start_time": "2024-03-31T00:11:28.868435",
     "status": "completed"
    },
    "tags": []
   },
   "source": [
    "You can already see a few missing values in the first several rows.  In the next step, you'll obtain a more comprehensive understanding of the missing values in the dataset.\n",
    "\n",
    "# Step 1: Preliminary investigation\n",
    "\n",
    "Run the code cell below without changes."
   ]
  },
  {
   "cell_type": "code",
   "execution_count": 4,
   "id": "96659244",
   "metadata": {
    "execution": {
     "iopub.execute_input": "2024-03-31T00:11:28.905704Z",
     "iopub.status.busy": "2024-03-31T00:11:28.905355Z",
     "iopub.status.idle": "2024-03-31T00:11:28.914167Z",
     "shell.execute_reply": "2024-03-31T00:11:28.912862Z"
    },
    "papermill": {
     "duration": 0.024899,
     "end_time": "2024-03-31T00:11:28.916867",
     "exception": false,
     "start_time": "2024-03-31T00:11:28.891968",
     "status": "completed"
    },
    "tags": []
   },
   "outputs": [
    {
     "name": "stdout",
     "output_type": "stream",
     "text": [
      "(1168, 36)\n",
      "LotFrontage    212\n",
      "MasVnrArea       6\n",
      "GarageYrBlt     58\n",
      "dtype: int64\n"
     ]
    }
   ],
   "source": [
    "# Shape of training data (num_rows, num_columns)\n",
    "print(X_train.shape)\n",
    "\n",
    "# Number of missing values in each column of training data\n",
    "missing_val_count_by_column = (X_train.isnull().sum())\n",
    "print(missing_val_count_by_column[missing_val_count_by_column > 0])"
   ]
  },
  {
   "cell_type": "markdown",
   "id": "a47768eb",
   "metadata": {
    "papermill": {
     "duration": 0.011953,
     "end_time": "2024-03-31T00:11:28.942052",
     "exception": false,
     "start_time": "2024-03-31T00:11:28.930099",
     "status": "completed"
    },
    "tags": []
   },
   "source": [
    "### Part A\n",
    "\n",
    "Use the above output to answer the questions below."
   ]
  },
  {
   "cell_type": "code",
   "execution_count": 5,
   "id": "b763341d",
   "metadata": {
    "execution": {
     "iopub.execute_input": "2024-03-31T00:11:28.968648Z",
     "iopub.status.busy": "2024-03-31T00:11:28.967925Z",
     "iopub.status.idle": "2024-03-31T00:11:28.977528Z",
     "shell.execute_reply": "2024-03-31T00:11:28.976442Z"
    },
    "papermill": {
     "duration": 0.025312,
     "end_time": "2024-03-31T00:11:28.979742",
     "exception": false,
     "start_time": "2024-03-31T00:11:28.954430",
     "status": "completed"
    },
    "tags": []
   },
   "outputs": [
    {
     "data": {
      "application/javascript": "parent.postMessage({\"jupyterEvent\": \"custom.exercise_interaction\", \"data\": {\"outcomeType\": 1, \"valueTowardsCompletion\": 1.0, \"interactionType\": 1, \"questionType\": 1, \"questionId\": \"1.1_InvestigateEquality\", \"learnToolsVersion\": \"0.3.4\", \"failureMessage\": \"\", \"exceptionClass\": \"\", \"trace\": \"\"}}, \"*\")",
      "text/plain": [
       "<IPython.core.display.Javascript object>"
      ]
     },
     "metadata": {},
     "output_type": "display_data"
    },
    {
     "data": {
      "text/markdown": [
       "<span style=\"color:#33cc33\">Correct</span>"
      ],
      "text/plain": [
       "Correct"
      ]
     },
     "metadata": {},
     "output_type": "display_data"
    }
   ],
   "source": [
    "# Fill in the line below: How many rows are in the training data?\n",
    "num_rows = 1168\n",
    "\n",
    "# Fill in the line below: How many columns in the training data\n",
    "# have missing values?\n",
    "num_cols_with_missing = 3\n",
    "\n",
    "# Fill in the line below: How many missing entries are contained in \n",
    "# all of the training data?\n",
    "tot_missing = 276\n",
    "\n",
    "# Check your answers\n",
    "step_1.a.check()"
   ]
  },
  {
   "cell_type": "code",
   "execution_count": 6,
   "id": "fee43c15",
   "metadata": {
    "execution": {
     "iopub.execute_input": "2024-03-31T00:11:29.007331Z",
     "iopub.status.busy": "2024-03-31T00:11:29.006894Z",
     "iopub.status.idle": "2024-03-31T00:11:29.010976Z",
     "shell.execute_reply": "2024-03-31T00:11:29.009959Z"
    },
    "papermill": {
     "duration": 0.020823,
     "end_time": "2024-03-31T00:11:29.013260",
     "exception": false,
     "start_time": "2024-03-31T00:11:28.992437",
     "status": "completed"
    },
    "tags": []
   },
   "outputs": [],
   "source": [
    "# Lines below will give you a hint or solution code\n",
    "#step_1.a.hint()\n",
    "#step_1.a.solution()"
   ]
  },
  {
   "cell_type": "markdown",
   "id": "1a62b633",
   "metadata": {
    "papermill": {
     "duration": 0.012474,
     "end_time": "2024-03-31T00:11:29.038417",
     "exception": false,
     "start_time": "2024-03-31T00:11:29.025943",
     "status": "completed"
    },
    "tags": []
   },
   "source": [
    "### Part B\n",
    "Considering your answers above, what do you think is likely the best approach to dealing with the missing values?"
   ]
  },
  {
   "cell_type": "code",
   "execution_count": 7,
   "id": "c1718725",
   "metadata": {
    "execution": {
     "iopub.execute_input": "2024-03-31T00:11:29.065557Z",
     "iopub.status.busy": "2024-03-31T00:11:29.065173Z",
     "iopub.status.idle": "2024-03-31T00:11:29.073898Z",
     "shell.execute_reply": "2024-03-31T00:11:29.072780Z"
    },
    "papermill": {
     "duration": 0.025064,
     "end_time": "2024-03-31T00:11:29.076315",
     "exception": false,
     "start_time": "2024-03-31T00:11:29.051251",
     "status": "completed"
    },
    "tags": []
   },
   "outputs": [
    {
     "data": {
      "application/javascript": "parent.postMessage({\"jupyterEvent\": \"custom.exercise_interaction\", \"data\": {\"outcomeType\": 1, \"valueTowardsCompletion\": 1.0, \"interactionType\": 1, \"questionType\": 4, \"questionId\": \"1.2_InvestigateThought\", \"learnToolsVersion\": \"0.3.4\", \"failureMessage\": \"\", \"exceptionClass\": \"\", \"trace\": \"\"}}, \"*\")",
      "text/plain": [
       "<IPython.core.display.Javascript object>"
      ]
     },
     "metadata": {},
     "output_type": "display_data"
    },
    {
     "data": {
      "text/markdown": [
       "<span style=\"color:#33cc33\">Correct:</span> \n",
       "\n",
       "Since there are relatively few missing entries in the data (the column with the greatest percentage of missing values is missing less than 20% of its entries), we can expect that dropping columns is unlikely to yield good results.  This is because we'd be throwing away a lot of valuable data, and so imputation will likely perform better."
      ],
      "text/plain": [
       "Correct: \n",
       "\n",
       "Since there are relatively few missing entries in the data (the column with the greatest percentage of missing values is missing less than 20% of its entries), we can expect that dropping columns is unlikely to yield good results.  This is because we'd be throwing away a lot of valuable data, and so imputation will likely perform better."
      ]
     },
     "metadata": {},
     "output_type": "display_data"
    }
   ],
   "source": [
    "# Check your answer (Run this code cell to receive credit!)\n",
    "step_1.b.check()"
   ]
  },
  {
   "cell_type": "code",
   "execution_count": 8,
   "id": "b6bc8c01",
   "metadata": {
    "execution": {
     "iopub.execute_input": "2024-03-31T00:11:29.104755Z",
     "iopub.status.busy": "2024-03-31T00:11:29.103762Z",
     "iopub.status.idle": "2024-03-31T00:11:29.107956Z",
     "shell.execute_reply": "2024-03-31T00:11:29.107185Z"
    },
    "papermill": {
     "duration": 0.020485,
     "end_time": "2024-03-31T00:11:29.110000",
     "exception": false,
     "start_time": "2024-03-31T00:11:29.089515",
     "status": "completed"
    },
    "tags": []
   },
   "outputs": [],
   "source": [
    "#step_1.b.hint()"
   ]
  },
  {
   "cell_type": "markdown",
   "id": "d5c40408",
   "metadata": {
    "papermill": {
     "duration": 0.012838,
     "end_time": "2024-03-31T00:11:29.136390",
     "exception": false,
     "start_time": "2024-03-31T00:11:29.123552",
     "status": "completed"
    },
    "tags": []
   },
   "source": [
    "To compare different approaches to dealing with missing values, you'll use the same `score_dataset()` function from the tutorial.  This function reports the [mean absolute error](https://en.wikipedia.org/wiki/Mean_absolute_error) (MAE) from a random forest model."
   ]
  },
  {
   "cell_type": "code",
   "execution_count": 9,
   "id": "2fca2654",
   "metadata": {
    "execution": {
     "iopub.execute_input": "2024-03-31T00:11:29.164637Z",
     "iopub.status.busy": "2024-03-31T00:11:29.163577Z",
     "iopub.status.idle": "2024-03-31T00:11:29.481138Z",
     "shell.execute_reply": "2024-03-31T00:11:29.480092Z"
    },
    "papermill": {
     "duration": 0.33442,
     "end_time": "2024-03-31T00:11:29.483697",
     "exception": false,
     "start_time": "2024-03-31T00:11:29.149277",
     "status": "completed"
    },
    "tags": []
   },
   "outputs": [],
   "source": [
    "from sklearn.ensemble import RandomForestRegressor\n",
    "from sklearn.metrics import mean_absolute_error\n",
    "\n",
    "# Function for comparing different approaches\n",
    "def score_dataset(X_train, X_valid, y_train, y_valid):\n",
    "    model = RandomForestRegressor(n_estimators=100, random_state=0)\n",
    "    model.fit(X_train, y_train)\n",
    "    preds = model.predict(X_valid)\n",
    "    return mean_absolute_error(y_valid, preds)"
   ]
  },
  {
   "cell_type": "markdown",
   "id": "6bdac1ab",
   "metadata": {
    "papermill": {
     "duration": 0.014041,
     "end_time": "2024-03-31T00:11:29.511396",
     "exception": false,
     "start_time": "2024-03-31T00:11:29.497355",
     "status": "completed"
    },
    "tags": []
   },
   "source": [
    "# Step 2: Drop columns with missing values\n",
    "\n",
    "In this step, you'll preprocess the data in `X_train` and `X_valid` to remove columns with missing values.  Set the preprocessed DataFrames to `reduced_X_train` and `reduced_X_valid`, respectively.  "
   ]
  },
  {
   "cell_type": "code",
   "execution_count": 10,
   "id": "ad57bfce",
   "metadata": {
    "execution": {
     "iopub.execute_input": "2024-03-31T00:11:29.539385Z",
     "iopub.status.busy": "2024-03-31T00:11:29.538996Z",
     "iopub.status.idle": "2024-03-31T00:11:29.569565Z",
     "shell.execute_reply": "2024-03-31T00:11:29.568824Z"
    },
    "papermill": {
     "duration": 0.047176,
     "end_time": "2024-03-31T00:11:29.571785",
     "exception": false,
     "start_time": "2024-03-31T00:11:29.524609",
     "status": "completed"
    },
    "tags": []
   },
   "outputs": [
    {
     "name": "stdout",
     "output_type": "stream",
     "text": [
      "['LotFrontage', 'MasVnrArea', 'GarageYrBlt']\n"
     ]
    },
    {
     "data": {
      "application/javascript": "parent.postMessage({\"jupyterEvent\": \"custom.exercise_interaction\", \"data\": {\"outcomeType\": 1, \"valueTowardsCompletion\": 1.0, \"interactionType\": 1, \"questionType\": 2, \"questionId\": \"2_DropMissing\", \"learnToolsVersion\": \"0.3.4\", \"failureMessage\": \"\", \"exceptionClass\": \"\", \"trace\": \"\"}}, \"*\")",
      "text/plain": [
       "<IPython.core.display.Javascript object>"
      ]
     },
     "metadata": {},
     "output_type": "display_data"
    },
    {
     "data": {
      "text/markdown": [
       "<span style=\"color:#33cc33\">Correct</span>"
      ],
      "text/plain": [
       "Correct"
      ]
     },
     "metadata": {},
     "output_type": "display_data"
    }
   ],
   "source": [
    "# Fill in the line below: get names of columns with missing values\n",
    "cols_with_missing = [col for col in X_train.columns\n",
    "                     if X_train[col].isnull().any()]\n",
    "cols_with_missing2 = [col for col in X_test.columns\n",
    "                     if X_test[col].isnull().any()]\n",
    "# Your code here\n",
    "print(cols_with_missing)\n",
    "# Fill in the lines below: drop columns in training and validation data\n",
    "reduced_X_train = X_train.drop(cols_with_missing, axis=1)\n",
    "reduced_X_valid = X_valid.drop(cols_with_missing,axis=1)\n",
    "\n",
    "# Check your answers\n",
    "step_2.check()"
   ]
  },
  {
   "cell_type": "code",
   "execution_count": 11,
   "id": "4ac5ff18",
   "metadata": {
    "execution": {
     "iopub.execute_input": "2024-03-31T00:11:29.600583Z",
     "iopub.status.busy": "2024-03-31T00:11:29.600219Z",
     "iopub.status.idle": "2024-03-31T00:11:29.604733Z",
     "shell.execute_reply": "2024-03-31T00:11:29.603703Z"
    },
    "papermill": {
     "duration": 0.021569,
     "end_time": "2024-03-31T00:11:29.606984",
     "exception": false,
     "start_time": "2024-03-31T00:11:29.585415",
     "status": "completed"
    },
    "tags": []
   },
   "outputs": [],
   "source": [
    "# Lines below will give you a hint or solution code\n",
    "#step_2.hint()\n",
    "#step_2.solution()"
   ]
  },
  {
   "cell_type": "markdown",
   "id": "c99ae992",
   "metadata": {
    "papermill": {
     "duration": 0.013434,
     "end_time": "2024-03-31T00:11:29.634201",
     "exception": false,
     "start_time": "2024-03-31T00:11:29.620767",
     "status": "completed"
    },
    "tags": []
   },
   "source": [
    "Run the next code cell without changes to obtain the MAE for this approach."
   ]
  },
  {
   "cell_type": "code",
   "execution_count": 12,
   "id": "f29f9768",
   "metadata": {
    "execution": {
     "iopub.execute_input": "2024-03-31T00:11:29.663223Z",
     "iopub.status.busy": "2024-03-31T00:11:29.662847Z",
     "iopub.status.idle": "2024-03-31T00:11:30.960421Z",
     "shell.execute_reply": "2024-03-31T00:11:30.959328Z"
    },
    "papermill": {
     "duration": 1.314753,
     "end_time": "2024-03-31T00:11:30.962719",
     "exception": false,
     "start_time": "2024-03-31T00:11:29.647966",
     "status": "completed"
    },
    "tags": []
   },
   "outputs": [
    {
     "name": "stdout",
     "output_type": "stream",
     "text": [
      "MAE (Drop columns with missing values):\n",
      "17837.82570776256\n"
     ]
    }
   ],
   "source": [
    "print(\"MAE (Drop columns with missing values):\")\n",
    "print(score_dataset(reduced_X_train, reduced_X_valid, y_train, y_valid))"
   ]
  },
  {
   "cell_type": "markdown",
   "id": "fc4310c3",
   "metadata": {
    "papermill": {
     "duration": 0.014009,
     "end_time": "2024-03-31T00:11:30.990605",
     "exception": false,
     "start_time": "2024-03-31T00:11:30.976596",
     "status": "completed"
    },
    "tags": []
   },
   "source": [
    "# Step 3: Imputation\n",
    "\n",
    "### Part A\n",
    "\n",
    "Use the next code cell to impute missing values with the mean value along each column.  Set the preprocessed DataFrames to `imputed_X_train` and `imputed_X_valid`.  Make sure that the column names match those in `X_train` and `X_valid`."
   ]
  },
  {
   "cell_type": "code",
   "execution_count": 13,
   "id": "495c7cd1",
   "metadata": {
    "execution": {
     "iopub.execute_input": "2024-03-31T00:11:31.022004Z",
     "iopub.status.busy": "2024-03-31T00:11:31.019777Z",
     "iopub.status.idle": "2024-03-31T00:11:31.129813Z",
     "shell.execute_reply": "2024-03-31T00:11:31.128344Z"
    },
    "papermill": {
     "duration": 0.127852,
     "end_time": "2024-03-31T00:11:31.132403",
     "exception": false,
     "start_time": "2024-03-31T00:11:31.004551",
     "status": "completed"
    },
    "tags": []
   },
   "outputs": [
    {
     "name": "stdout",
     "output_type": "stream",
     "text": [
      "         0           1        2    3    4       5       6      7       8   \\\n",
      "0      20.0   90.000000  11694.0  9.0  5.0  2007.0  2007.0  452.0    48.0   \n",
      "1      20.0   60.000000   6600.0  5.0  5.0  1962.0  1962.0    0.0     0.0   \n",
      "2      30.0   80.000000  13360.0  5.0  7.0  1921.0  2006.0    0.0   713.0   \n",
      "3      20.0   69.614017  13265.0  8.0  5.0  2002.0  2002.0  148.0  1218.0   \n",
      "4      20.0  118.000000  13704.0  7.0  5.0  2001.0  2002.0  150.0     0.0   \n",
      "...     ...         ...      ...  ...  ...     ...     ...    ...     ...   \n",
      "1163   60.0   82.000000   9430.0  8.0  5.0  1999.0  1999.0  673.0  1163.0   \n",
      "1164   20.0   60.000000   9600.0  4.0  7.0  1950.0  1995.0    0.0   442.0   \n",
      "1165   90.0   68.000000   8930.0  6.0  5.0  1978.0  1978.0    0.0     0.0   \n",
      "1166  120.0   69.614017   3196.0  7.0  5.0  2003.0  2004.0   18.0     0.0   \n",
      "1167   60.0   58.000000  16770.0  7.0  5.0  1998.0  1998.0   30.0     0.0   \n",
      "\n",
      "       9   ...     26     27     28    29   30     31   32   33    34      35  \n",
      "0     0.0  ...  774.0    0.0  108.0   0.0  0.0  260.0  0.0  0.0   7.0  2007.0  \n",
      "1     0.0  ...  308.0    0.0    0.0   0.0  0.0    0.0  0.0  0.0   8.0  2009.0  \n",
      "2     0.0  ...  432.0    0.0    0.0  44.0  0.0    0.0  0.0  0.0   8.0  2009.0  \n",
      "3     0.0  ...  857.0  150.0   59.0   0.0  0.0    0.0  0.0  0.0   7.0  2008.0  \n",
      "4     0.0  ...  843.0  468.0   81.0   0.0  0.0    0.0  0.0  0.0   1.0  2006.0  \n",
      "...   ...  ...    ...    ...    ...   ...  ...    ...  ...  ...   ...     ...  \n",
      "1163  0.0  ...  856.0    0.0  128.0   0.0  0.0  180.0  0.0  0.0   7.0  2009.0  \n",
      "1164  0.0  ...  436.0  290.0    0.0   0.0  0.0    0.0  0.0  0.0   2.0  2010.0  \n",
      "1165  0.0  ...  539.0    0.0    0.0   0.0  0.0    0.0  0.0  0.0   4.0  2010.0  \n",
      "1166  0.0  ...  420.0  143.0   20.0   0.0  0.0    0.0  0.0  0.0  10.0  2006.0  \n",
      "1167  0.0  ...  486.0    0.0   81.0   0.0  0.0    0.0  0.0  0.0   6.0  2010.0  \n",
      "\n",
      "[1168 rows x 36 columns]\n",
      "        0           1        2     3    4       5       6           7   \\\n",
      "0     20.0   69.614017  32668.0   6.0  3.0  1957.0  1975.0  103.481067   \n",
      "1     50.0   79.000000   9490.0   6.0  7.0  1941.0  1950.0    0.000000   \n",
      "2     50.0   69.614017   7015.0   5.0  4.0  1950.0  1950.0  161.000000   \n",
      "3     60.0   83.000000  10005.0   7.0  5.0  1977.0  1977.0  299.000000   \n",
      "4    160.0   21.000000   1680.0   6.0  5.0  1971.0  1971.0  381.000000   \n",
      "..     ...         ...      ...   ...  ...     ...     ...         ...   \n",
      "287  120.0   32.000000  10846.0   8.0  5.0  1993.0  1993.0    0.000000   \n",
      "288   20.0  105.000000  15431.0  10.0  5.0  2008.0  2008.0  200.000000   \n",
      "289   50.0   60.000000   8520.0   6.0  7.0  1916.0  1950.0    0.000000   \n",
      "290   30.0   50.000000   5330.0   4.0  7.0  1940.0  1950.0    0.000000   \n",
      "291   75.0   60.000000   7200.0   5.0  7.0  1920.0  1996.0    0.000000   \n",
      "\n",
      "         8      9   ...     26     27     28     29   30     31   32   33  \\\n",
      "0    1219.0    0.0  ...  484.0    0.0    0.0  200.0  0.0    0.0  0.0  0.0   \n",
      "1     403.0  165.0  ...  240.0    0.0    0.0   32.0  0.0    0.0  0.0  0.0   \n",
      "2     185.0    0.0  ...  352.0    0.0    0.0  248.0  0.0    0.0  0.0  0.0   \n",
      "3     392.0    0.0  ...  505.0  288.0  117.0    0.0  0.0    0.0  0.0  0.0   \n",
      "4       0.0    0.0  ...  264.0    0.0    0.0    0.0  0.0    0.0  0.0  0.0   \n",
      "..      ...    ...  ...    ...    ...    ...    ...  ...    ...  ...  ...   \n",
      "287  1619.0    0.0  ...  473.0  122.0   30.0    0.0  0.0    0.0  0.0  0.0   \n",
      "288  1767.0  539.0  ...  672.0    0.0   72.0    0.0  0.0  170.0  0.0  0.0   \n",
      "289   168.0  546.0  ...  216.0   88.0   15.0    0.0  0.0    0.0  0.0  0.0   \n",
      "290   280.0    0.0  ...    0.0  164.0    0.0    0.0  0.0    0.0  0.0  0.0   \n",
      "291     0.0    0.0  ...  288.0    0.0    0.0  144.0  0.0    0.0  0.0  0.0   \n",
      "\n",
      "       34      35  \n",
      "0     3.0  2007.0  \n",
      "1     8.0  2006.0  \n",
      "2     7.0  2009.0  \n",
      "3     3.0  2008.0  \n",
      "4     3.0  2010.0  \n",
      "..    ...     ...  \n",
      "287   5.0  2008.0  \n",
      "288   4.0  2009.0  \n",
      "289   8.0  2007.0  \n",
      "290  12.0  2009.0  \n",
      "291   3.0  2007.0  \n",
      "\n",
      "[292 rows x 36 columns]\n",
      "      MSSubClass  LotFrontage  LotArea  OverallQual  OverallCond  YearBuilt  \\\n",
      "0           20.0    90.000000  11694.0          9.0          5.0     2007.0   \n",
      "1           20.0    60.000000   6600.0          5.0          5.0     1962.0   \n",
      "2           30.0    80.000000  13360.0          5.0          7.0     1921.0   \n",
      "3           20.0    69.614017  13265.0          8.0          5.0     2002.0   \n",
      "4           20.0   118.000000  13704.0          7.0          5.0     2001.0   \n",
      "...          ...          ...      ...          ...          ...        ...   \n",
      "1163        60.0    82.000000   9430.0          8.0          5.0     1999.0   \n",
      "1164        20.0    60.000000   9600.0          4.0          7.0     1950.0   \n",
      "1165        90.0    68.000000   8930.0          6.0          5.0     1978.0   \n",
      "1166       120.0    69.614017   3196.0          7.0          5.0     2003.0   \n",
      "1167        60.0    58.000000  16770.0          7.0          5.0     1998.0   \n",
      "\n",
      "      YearRemodAdd  MasVnrArea  BsmtFinSF1  BsmtFinSF2  ...  GarageArea  \\\n",
      "0           2007.0       452.0        48.0         0.0  ...       774.0   \n",
      "1           1962.0         0.0         0.0         0.0  ...       308.0   \n",
      "2           2006.0         0.0       713.0         0.0  ...       432.0   \n",
      "3           2002.0       148.0      1218.0         0.0  ...       857.0   \n",
      "4           2002.0       150.0         0.0         0.0  ...       843.0   \n",
      "...            ...         ...         ...         ...  ...         ...   \n",
      "1163        1999.0       673.0      1163.0         0.0  ...       856.0   \n",
      "1164        1995.0         0.0       442.0         0.0  ...       436.0   \n",
      "1165        1978.0         0.0         0.0         0.0  ...       539.0   \n",
      "1166        2004.0        18.0         0.0         0.0  ...       420.0   \n",
      "1167        1998.0        30.0         0.0         0.0  ...       486.0   \n",
      "\n",
      "      WoodDeckSF  OpenPorchSF  EnclosedPorch  3SsnPorch  ScreenPorch  \\\n",
      "0            0.0        108.0            0.0        0.0        260.0   \n",
      "1            0.0          0.0            0.0        0.0          0.0   \n",
      "2            0.0          0.0           44.0        0.0          0.0   \n",
      "3          150.0         59.0            0.0        0.0          0.0   \n",
      "4          468.0         81.0            0.0        0.0          0.0   \n",
      "...          ...          ...            ...        ...          ...   \n",
      "1163         0.0        128.0            0.0        0.0        180.0   \n",
      "1164       290.0          0.0            0.0        0.0          0.0   \n",
      "1165         0.0          0.0            0.0        0.0          0.0   \n",
      "1166       143.0         20.0            0.0        0.0          0.0   \n",
      "1167         0.0         81.0            0.0        0.0          0.0   \n",
      "\n",
      "      PoolArea  MiscVal  MoSold  YrSold  \n",
      "0          0.0      0.0     7.0  2007.0  \n",
      "1          0.0      0.0     8.0  2009.0  \n",
      "2          0.0      0.0     8.0  2009.0  \n",
      "3          0.0      0.0     7.0  2008.0  \n",
      "4          0.0      0.0     1.0  2006.0  \n",
      "...        ...      ...     ...     ...  \n",
      "1163       0.0      0.0     7.0  2009.0  \n",
      "1164       0.0      0.0     2.0  2010.0  \n",
      "1165       0.0      0.0     4.0  2010.0  \n",
      "1166       0.0      0.0    10.0  2006.0  \n",
      "1167       0.0      0.0     6.0  2010.0  \n",
      "\n",
      "[1168 rows x 36 columns]\n",
      "     MSSubClass  LotFrontage  LotArea  OverallQual  OverallCond  YearBuilt  \\\n",
      "0          20.0    69.614017  32668.0          6.0          3.0     1957.0   \n",
      "1          50.0    79.000000   9490.0          6.0          7.0     1941.0   \n",
      "2          50.0    69.614017   7015.0          5.0          4.0     1950.0   \n",
      "3          60.0    83.000000  10005.0          7.0          5.0     1977.0   \n",
      "4         160.0    21.000000   1680.0          6.0          5.0     1971.0   \n",
      "..          ...          ...      ...          ...          ...        ...   \n",
      "287       120.0    32.000000  10846.0          8.0          5.0     1993.0   \n",
      "288        20.0   105.000000  15431.0         10.0          5.0     2008.0   \n",
      "289        50.0    60.000000   8520.0          6.0          7.0     1916.0   \n",
      "290        30.0    50.000000   5330.0          4.0          7.0     1940.0   \n",
      "291        75.0    60.000000   7200.0          5.0          7.0     1920.0   \n",
      "\n",
      "     YearRemodAdd  MasVnrArea  BsmtFinSF1  BsmtFinSF2  ...  GarageArea  \\\n",
      "0          1975.0  103.481067      1219.0         0.0  ...       484.0   \n",
      "1          1950.0    0.000000       403.0       165.0  ...       240.0   \n",
      "2          1950.0  161.000000       185.0         0.0  ...       352.0   \n",
      "3          1977.0  299.000000       392.0         0.0  ...       505.0   \n",
      "4          1971.0  381.000000         0.0         0.0  ...       264.0   \n",
      "..            ...         ...         ...         ...  ...         ...   \n",
      "287        1993.0    0.000000      1619.0         0.0  ...       473.0   \n",
      "288        2008.0  200.000000      1767.0       539.0  ...       672.0   \n",
      "289        1950.0    0.000000       168.0       546.0  ...       216.0   \n",
      "290        1950.0    0.000000       280.0         0.0  ...         0.0   \n",
      "291        1996.0    0.000000         0.0         0.0  ...       288.0   \n",
      "\n",
      "     WoodDeckSF  OpenPorchSF  EnclosedPorch  3SsnPorch  ScreenPorch  PoolArea  \\\n",
      "0           0.0          0.0          200.0        0.0          0.0       0.0   \n",
      "1           0.0          0.0           32.0        0.0          0.0       0.0   \n",
      "2           0.0          0.0          248.0        0.0          0.0       0.0   \n",
      "3         288.0        117.0            0.0        0.0          0.0       0.0   \n",
      "4           0.0          0.0            0.0        0.0          0.0       0.0   \n",
      "..          ...          ...            ...        ...          ...       ...   \n",
      "287       122.0         30.0            0.0        0.0          0.0       0.0   \n",
      "288         0.0         72.0            0.0        0.0        170.0       0.0   \n",
      "289        88.0         15.0            0.0        0.0          0.0       0.0   \n",
      "290       164.0          0.0            0.0        0.0          0.0       0.0   \n",
      "291         0.0          0.0          144.0        0.0          0.0       0.0   \n",
      "\n",
      "     MiscVal  MoSold  YrSold  \n",
      "0        0.0     3.0  2007.0  \n",
      "1        0.0     8.0  2006.0  \n",
      "2        0.0     7.0  2009.0  \n",
      "3        0.0     3.0  2008.0  \n",
      "4        0.0     3.0  2010.0  \n",
      "..       ...     ...     ...  \n",
      "287      0.0     5.0  2008.0  \n",
      "288      0.0     4.0  2009.0  \n",
      "289      0.0     8.0  2007.0  \n",
      "290      0.0    12.0  2009.0  \n",
      "291      0.0     3.0  2007.0  \n",
      "\n",
      "[292 rows x 36 columns]\n"
     ]
    },
    {
     "data": {
      "application/javascript": "parent.postMessage({\"jupyterEvent\": \"custom.exercise_interaction\", \"data\": {\"outcomeType\": 1, \"valueTowardsCompletion\": 1.0, \"interactionType\": 1, \"questionType\": 2, \"questionId\": \"3.1_ImputeCode\", \"learnToolsVersion\": \"0.3.4\", \"failureMessage\": \"\", \"exceptionClass\": \"\", \"trace\": \"\"}}, \"*\")",
      "text/plain": [
       "<IPython.core.display.Javascript object>"
      ]
     },
     "metadata": {},
     "output_type": "display_data"
    },
    {
     "data": {
      "text/markdown": [
       "<span style=\"color:#33cc33\">Correct</span>"
      ],
      "text/plain": [
       "Correct"
      ]
     },
     "metadata": {},
     "output_type": "display_data"
    }
   ],
   "source": [
    "from sklearn.impute import SimpleImputer\n",
    "\n",
    "# Fill in the lines below: imputation\n",
    "my_imputer=SimpleImputer() # Your code here\n",
    "imputed_X_train = pd.DataFrame(my_imputer.fit_transform(X_train))\n",
    "imputed_X_valid = pd.DataFrame(my_imputer.transform(X_valid))\n",
    "print(imputed_X_train)\n",
    "print(imputed_X_valid)\n",
    "# Fill in the lines below: imputation removed column names; put them back\n",
    "imputed_X_train.columns = X_train.columns\n",
    "imputed_X_valid.columns = X_valid.columns\n",
    "print(imputed_X_train)\n",
    "print(imputed_X_valid)\n",
    "# Check your answers\n",
    "step_3.a.check()"
   ]
  },
  {
   "cell_type": "code",
   "execution_count": 14,
   "id": "3c672591",
   "metadata": {
    "execution": {
     "iopub.execute_input": "2024-03-31T00:11:31.163798Z",
     "iopub.status.busy": "2024-03-31T00:11:31.163372Z",
     "iopub.status.idle": "2024-03-31T00:11:31.168082Z",
     "shell.execute_reply": "2024-03-31T00:11:31.167140Z"
    },
    "papermill": {
     "duration": 0.023265,
     "end_time": "2024-03-31T00:11:31.170107",
     "exception": false,
     "start_time": "2024-03-31T00:11:31.146842",
     "status": "completed"
    },
    "tags": []
   },
   "outputs": [],
   "source": [
    "# Lines below will give you a hint or solution code\n",
    "#step_3.a.hint()\n",
    "#step_3.a.solution()"
   ]
  },
  {
   "cell_type": "markdown",
   "id": "d5362d84",
   "metadata": {
    "papermill": {
     "duration": 0.01474,
     "end_time": "2024-03-31T00:11:31.199604",
     "exception": false,
     "start_time": "2024-03-31T00:11:31.184864",
     "status": "completed"
    },
    "tags": []
   },
   "source": [
    "Run the next code cell without changes to obtain the MAE for this approach."
   ]
  },
  {
   "cell_type": "code",
   "execution_count": 15,
   "id": "2974a3af",
   "metadata": {
    "execution": {
     "iopub.execute_input": "2024-03-31T00:11:31.231441Z",
     "iopub.status.busy": "2024-03-31T00:11:31.230417Z",
     "iopub.status.idle": "2024-03-31T00:11:32.660590Z",
     "shell.execute_reply": "2024-03-31T00:11:32.659332Z"
    },
    "papermill": {
     "duration": 1.44855,
     "end_time": "2024-03-31T00:11:32.662998",
     "exception": false,
     "start_time": "2024-03-31T00:11:31.214448",
     "status": "completed"
    },
    "tags": []
   },
   "outputs": [
    {
     "name": "stdout",
     "output_type": "stream",
     "text": [
      "MAE (Imputation):\n",
      "18062.894611872147\n"
     ]
    }
   ],
   "source": [
    "print(\"MAE (Imputation):\")\n",
    "print(score_dataset(imputed_X_train, imputed_X_valid, y_train, y_valid))"
   ]
  },
  {
   "cell_type": "markdown",
   "id": "93bef62d",
   "metadata": {
    "papermill": {
     "duration": 0.014541,
     "end_time": "2024-03-31T00:11:32.692481",
     "exception": false,
     "start_time": "2024-03-31T00:11:32.677940",
     "status": "completed"
    },
    "tags": []
   },
   "source": [
    "### Part B\n",
    "\n",
    "Compare the MAE from each approach.  Does anything surprise you about the results?  Why do you think one approach performed better than the other?"
   ]
  },
  {
   "cell_type": "code",
   "execution_count": 16,
   "id": "083ace3d",
   "metadata": {
    "execution": {
     "iopub.execute_input": "2024-03-31T00:11:32.723617Z",
     "iopub.status.busy": "2024-03-31T00:11:32.723259Z",
     "iopub.status.idle": "2024-03-31T00:11:32.731601Z",
     "shell.execute_reply": "2024-03-31T00:11:32.730595Z"
    },
    "papermill": {
     "duration": 0.026623,
     "end_time": "2024-03-31T00:11:32.733832",
     "exception": false,
     "start_time": "2024-03-31T00:11:32.707209",
     "status": "completed"
    },
    "tags": []
   },
   "outputs": [
    {
     "data": {
      "application/javascript": "parent.postMessage({\"jupyterEvent\": \"custom.exercise_interaction\", \"data\": {\"outcomeType\": 1, \"valueTowardsCompletion\": 1.0, \"interactionType\": 1, \"questionType\": 4, \"questionId\": \"3.2_ImputeThought\", \"learnToolsVersion\": \"0.3.4\", \"failureMessage\": \"\", \"exceptionClass\": \"\", \"trace\": \"\"}}, \"*\")",
      "text/plain": [
       "<IPython.core.display.Javascript object>"
      ]
     },
     "metadata": {},
     "output_type": "display_data"
    },
    {
     "data": {
      "text/markdown": [
       "<span style=\"color:#33cc33\">Correct:</span> \n",
       "\n",
       "Given that thre are so few missing values in the dataset, we'd expect imputation to perform better than dropping columns entirely.  However, we see that dropping columns performs slightly better!  While this can probably partially be attributed to noise in the dataset, another potential explanation is that the imputation method is not a great match to this dataset.  That is, maybe instead of filling in the mean value, it makes more sense to set every missing value to a value of 0, to fill in the most frequently encountered value, or to use some other method.  For instance, consider the `GarageYrBlt` column (which indicates the year that the garage was built).  It's likely that in some cases, a missing value could indicate a house that does not have a garage.  Does it make more sense to fill in the median value along each column in this case?  Or could we get better results by filling in the minimum value along each column?  It's not quite clear what's best in this case, but perhaps we can rule out some options immediately - for instance, setting missing values in this column to 0 is likely to yield horrible results!"
      ],
      "text/plain": [
       "Correct: \n",
       "\n",
       "Given that thre are so few missing values in the dataset, we'd expect imputation to perform better than dropping columns entirely.  However, we see that dropping columns performs slightly better!  While this can probably partially be attributed to noise in the dataset, another potential explanation is that the imputation method is not a great match to this dataset.  That is, maybe instead of filling in the mean value, it makes more sense to set every missing value to a value of 0, to fill in the most frequently encountered value, or to use some other method.  For instance, consider the `GarageYrBlt` column (which indicates the year that the garage was built).  It's likely that in some cases, a missing value could indicate a house that does not have a garage.  Does it make more sense to fill in the median value along each column in this case?  Or could we get better results by filling in the minimum value along each column?  It's not quite clear what's best in this case, but perhaps we can rule out some options immediately - for instance, setting missing values in this column to 0 is likely to yield horrible results!"
      ]
     },
     "metadata": {},
     "output_type": "display_data"
    }
   ],
   "source": [
    "# Check your answer (Run this code cell to receive credit!)\n",
    "step_3.b.check()"
   ]
  },
  {
   "cell_type": "code",
   "execution_count": 17,
   "id": "8e1020ad",
   "metadata": {
    "execution": {
     "iopub.execute_input": "2024-03-31T00:11:32.765931Z",
     "iopub.status.busy": "2024-03-31T00:11:32.765100Z",
     "iopub.status.idle": "2024-03-31T00:11:32.769688Z",
     "shell.execute_reply": "2024-03-31T00:11:32.768544Z"
    },
    "papermill": {
     "duration": 0.022873,
     "end_time": "2024-03-31T00:11:32.771806",
     "exception": false,
     "start_time": "2024-03-31T00:11:32.748933",
     "status": "completed"
    },
    "tags": []
   },
   "outputs": [],
   "source": [
    "#step_3.b.hint()"
   ]
  },
  {
   "cell_type": "markdown",
   "id": "80db0d44",
   "metadata": {
    "papermill": {
     "duration": 0.014864,
     "end_time": "2024-03-31T00:11:32.803739",
     "exception": false,
     "start_time": "2024-03-31T00:11:32.788875",
     "status": "completed"
    },
    "tags": []
   },
   "source": [
    "# Step 4: Generate test predictions\n",
    "\n",
    "In this final step, you'll use any approach of your choosing to deal with missing values.  Once you've preprocessed the training and validation features, you'll train and evaluate a random forest model.  Then, you'll preprocess the test data before generating predictions that can be submitted to the competition!\n",
    "\n",
    "### Part A\n",
    "\n",
    "Use the next code cell to preprocess the training and validation data.  Set the preprocessed DataFrames to `final_X_train` and `final_X_valid`.  **You can use any approach of your choosing here!**  in order for this step to be marked as correct, you need only ensure:\n",
    "- the preprocessed DataFrames have the same number of columns,\n",
    "- the preprocessed DataFrames have no missing values, \n",
    "- `final_X_train` and `y_train` have the same number of rows, and\n",
    "- `final_X_valid` and `y_valid` have the same number of rows."
   ]
  },
  {
   "cell_type": "code",
   "execution_count": 18,
   "id": "3123fa29",
   "metadata": {
    "execution": {
     "iopub.execute_input": "2024-03-31T00:11:32.835968Z",
     "iopub.status.busy": "2024-03-31T00:11:32.835622Z",
     "iopub.status.idle": "2024-03-31T00:11:32.865069Z",
     "shell.execute_reply": "2024-03-31T00:11:32.863919Z"
    },
    "papermill": {
     "duration": 0.048286,
     "end_time": "2024-03-31T00:11:32.867403",
     "exception": false,
     "start_time": "2024-03-31T00:11:32.819117",
     "status": "completed"
    },
    "tags": []
   },
   "outputs": [
    {
     "data": {
      "application/javascript": "parent.postMessage({\"jupyterEvent\": \"custom.exercise_interaction\", \"data\": {\"outcomeType\": 1, \"valueTowardsCompletion\": 1.0, \"interactionType\": 1, \"questionType\": 2, \"questionId\": \"4.1_PredsCodeA\", \"learnToolsVersion\": \"0.3.4\", \"failureMessage\": \"\", \"exceptionClass\": \"\", \"trace\": \"\"}}, \"*\")",
      "text/plain": [
       "<IPython.core.display.Javascript object>"
      ]
     },
     "metadata": {},
     "output_type": "display_data"
    },
    {
     "data": {
      "text/markdown": [
       "<span style=\"color:#33cc33\">Correct</span>"
      ],
      "text/plain": [
       "Correct"
      ]
     },
     "metadata": {},
     "output_type": "display_data"
    }
   ],
   "source": [
    "# Imputation\n",
    "final_imputer = SimpleImputer(strategy='median')\n",
    "final_X_train = pd.DataFrame(final_imputer.fit_transform(X_train))\n",
    "final_X_valid = pd.DataFrame(final_imputer.transform(X_valid))\n",
    "\n",
    "# Imputation removed column names; put them back\n",
    "final_X_train.columns = X_train.columns\n",
    "final_X_valid.columns = X_valid.columns\n",
    "# Check your answers\n",
    "step_4.a.check()"
   ]
  },
  {
   "cell_type": "code",
   "execution_count": 19,
   "id": "3ca683c6",
   "metadata": {
    "execution": {
     "iopub.execute_input": "2024-03-31T00:11:32.901577Z",
     "iopub.status.busy": "2024-03-31T00:11:32.900995Z",
     "iopub.status.idle": "2024-03-31T00:11:32.920963Z",
     "shell.execute_reply": "2024-03-31T00:11:32.919750Z"
    },
    "papermill": {
     "duration": 0.041139,
     "end_time": "2024-03-31T00:11:32.924153",
     "exception": false,
     "start_time": "2024-03-31T00:11:32.883014",
     "status": "completed"
    },
    "tags": []
   },
   "outputs": [
    {
     "data": {
      "application/javascript": "parent.postMessage({\"jupyterEvent\": \"custom.exercise_interaction\", \"data\": {\"interactionType\": 2, \"questionType\": 2, \"questionId\": \"4.1_PredsCodeA\", \"learnToolsVersion\": \"0.3.4\", \"valueTowardsCompletion\": 0.0, \"failureMessage\": \"\", \"exceptionClass\": \"\", \"trace\": \"\", \"outcomeType\": 4}}, \"*\")",
      "text/plain": [
       "<IPython.core.display.Javascript object>"
      ]
     },
     "metadata": {},
     "output_type": "display_data"
    },
    {
     "data": {
      "text/markdown": [
       "<span style=\"color:#3366cc\">Hint:</span> Use any approach of your choosing to deal with missing values in the data.  For inspiration, check out the code from the tutorial!"
      ],
      "text/plain": [
       "Hint: Use any approach of your choosing to deal with missing values in the data.  For inspiration, check out the code from the tutorial!"
      ]
     },
     "metadata": {},
     "output_type": "display_data"
    },
    {
     "data": {
      "application/javascript": "parent.postMessage({\"jupyterEvent\": \"custom.exercise_interaction\", \"data\": {\"interactionType\": 3, \"questionType\": 2, \"questionId\": \"4.1_PredsCodeA\", \"learnToolsVersion\": \"0.3.4\", \"valueTowardsCompletion\": 0.0, \"failureMessage\": \"\", \"exceptionClass\": \"\", \"trace\": \"\", \"outcomeType\": 4}}, \"*\")",
      "text/plain": [
       "<IPython.core.display.Javascript object>"
      ]
     },
     "metadata": {},
     "output_type": "display_data"
    },
    {
     "data": {
      "text/markdown": [
       "<span style=\"color:#33cc99\">Solution:</span> \n",
       "```python\n",
       "# Imputation\n",
       "final_imputer = SimpleImputer(strategy='median')\n",
       "final_X_train = pd.DataFrame(final_imputer.fit_transform(X_train))\n",
       "final_X_valid = pd.DataFrame(final_imputer.transform(X_valid))\n",
       "\n",
       "# Imputation removed column names; put them back\n",
       "final_X_train.columns = X_train.columns\n",
       "final_X_valid.columns = X_valid.columns\n",
       "\n",
       "```"
      ],
      "text/plain": [
       "Solution: \n",
       "```python\n",
       "# Imputation\n",
       "final_imputer = SimpleImputer(strategy='median')\n",
       "final_X_train = pd.DataFrame(final_imputer.fit_transform(X_train))\n",
       "final_X_valid = pd.DataFrame(final_imputer.transform(X_valid))\n",
       "\n",
       "# Imputation removed column names; put them back\n",
       "final_X_train.columns = X_train.columns\n",
       "final_X_valid.columns = X_valid.columns\n",
       "\n",
       "```"
      ]
     },
     "metadata": {},
     "output_type": "display_data"
    }
   ],
   "source": [
    "# Lines below will give you a hint or solution code\n",
    "step_4.a.hint()\n",
    "step_4.a.solution()"
   ]
  },
  {
   "cell_type": "markdown",
   "id": "9027abe6",
   "metadata": {
    "papermill": {
     "duration": 0.017142,
     "end_time": "2024-03-31T00:11:32.963889",
     "exception": false,
     "start_time": "2024-03-31T00:11:32.946747",
     "status": "completed"
    },
    "tags": []
   },
   "source": [
    "Run the next code cell to train and evaluate a random forest model.  (*Note that we don't use the `score_dataset()` function above, because we will soon use the trained model to generate test predictions!*)"
   ]
  },
  {
   "cell_type": "code",
   "execution_count": 20,
   "id": "1082b77f",
   "metadata": {
    "execution": {
     "iopub.execute_input": "2024-03-31T00:11:32.998779Z",
     "iopub.status.busy": "2024-03-31T00:11:32.997753Z",
     "iopub.status.idle": "2024-03-31T00:11:34.469828Z",
     "shell.execute_reply": "2024-03-31T00:11:34.468756Z"
    },
    "papermill": {
     "duration": 1.491957,
     "end_time": "2024-03-31T00:11:34.472114",
     "exception": false,
     "start_time": "2024-03-31T00:11:32.980157",
     "status": "completed"
    },
    "tags": []
   },
   "outputs": [
    {
     "name": "stdout",
     "output_type": "stream",
     "text": [
      "MAE (Imputed Missing):\n",
      "17791.59899543379\n"
     ]
    }
   ],
   "source": [
    "# Define and fit model\n",
    "model = RandomForestRegressor(n_estimators=100, random_state=0)\n",
    "model.fit(final_X_train, y_train)\n",
    "\n",
    "# Get validation predictions and MAE\n",
    "preds_valid = model.predict(final_X_valid)\n",
    "print(\"MAE (Imputed Missing):\")\n",
    "print(mean_absolute_error(y_valid, preds_valid))"
   ]
  },
  {
   "cell_type": "markdown",
   "id": "6238f6a9",
   "metadata": {
    "papermill": {
     "duration": 0.016142,
     "end_time": "2024-03-31T00:11:34.504828",
     "exception": false,
     "start_time": "2024-03-31T00:11:34.488686",
     "status": "completed"
    },
    "tags": []
   },
   "source": [
    "### Part B\n",
    "\n",
    "Use the next code cell to preprocess your test data.  Make sure that you use a method that agrees with how you preprocessed the training and validation data, and set the preprocessed test features to `final_X_test`.\n",
    "\n",
    "Then, use the preprocessed test features and the trained model to generate test predictions in `preds_test`.\n",
    "\n",
    "In order for this step to be marked correct, you need only ensure:\n",
    "- the preprocessed test DataFrame has no missing values, and\n",
    "- `final_X_test` has the same number of rows as `X_test`."
   ]
  },
  {
   "cell_type": "code",
   "execution_count": 21,
   "id": "af9a8d70",
   "metadata": {
    "execution": {
     "iopub.execute_input": "2024-03-31T00:11:34.539435Z",
     "iopub.status.busy": "2024-03-31T00:11:34.539015Z",
     "iopub.status.idle": "2024-03-31T00:11:34.587840Z",
     "shell.execute_reply": "2024-03-31T00:11:34.586794Z"
    },
    "papermill": {
     "duration": 0.070905,
     "end_time": "2024-03-31T00:11:34.591800",
     "exception": false,
     "start_time": "2024-03-31T00:11:34.520895",
     "status": "completed"
    },
    "tags": []
   },
   "outputs": [
    {
     "name": "stderr",
     "output_type": "stream",
     "text": [
      "/opt/conda/lib/python3.10/site-packages/sklearn/base.py:439: UserWarning: X does not have valid feature names, but RandomForestRegressor was fitted with feature names\n",
      "  warnings.warn(\n"
     ]
    },
    {
     "data": {
      "application/javascript": "parent.postMessage({\"jupyterEvent\": \"custom.exercise_interaction\", \"data\": {\"outcomeType\": 1, \"valueTowardsCompletion\": 1.0, \"interactionType\": 1, \"questionType\": 2, \"questionId\": \"4.2_PredsCodeB\", \"learnToolsVersion\": \"0.3.4\", \"failureMessage\": \"\", \"exceptionClass\": \"\", \"trace\": \"\"}}, \"*\")",
      "text/plain": [
       "<IPython.core.display.Javascript object>"
      ]
     },
     "metadata": {},
     "output_type": "display_data"
    },
    {
     "data": {
      "text/markdown": [
       "<span style=\"color:#33cc33\">Correct</span>"
      ],
      "text/plain": [
       "Correct"
      ]
     },
     "metadata": {},
     "output_type": "display_data"
    }
   ],
   "source": [
    "# Preprocess test data\n",
    "final_X_test = pd.DataFrame(final_imputer.transform(X_test))\n",
    "\n",
    "# Get test predictions\n",
    "preds_test = model.predict(final_X_test)\n",
    "\n",
    "# Check your answers\n",
    "step_4.b.check()"
   ]
  },
  {
   "cell_type": "code",
   "execution_count": 22,
   "id": "349f6ed1",
   "metadata": {
    "execution": {
     "iopub.execute_input": "2024-03-31T00:11:34.626955Z",
     "iopub.status.busy": "2024-03-31T00:11:34.626552Z",
     "iopub.status.idle": "2024-03-31T00:11:34.639464Z",
     "shell.execute_reply": "2024-03-31T00:11:34.638383Z"
    },
    "papermill": {
     "duration": 0.033352,
     "end_time": "2024-03-31T00:11:34.641791",
     "exception": false,
     "start_time": "2024-03-31T00:11:34.608439",
     "status": "completed"
    },
    "tags": []
   },
   "outputs": [
    {
     "data": {
      "application/javascript": "parent.postMessage({\"jupyterEvent\": \"custom.exercise_interaction\", \"data\": {\"interactionType\": 2, \"questionType\": 2, \"questionId\": \"4.2_PredsCodeB\", \"learnToolsVersion\": \"0.3.4\", \"valueTowardsCompletion\": 0.0, \"failureMessage\": \"\", \"exceptionClass\": \"\", \"trace\": \"\", \"outcomeType\": 4}}, \"*\")",
      "text/plain": [
       "<IPython.core.display.Javascript object>"
      ]
     },
     "metadata": {},
     "output_type": "display_data"
    },
    {
     "data": {
      "text/markdown": [
       "<span style=\"color:#3366cc\">Hint:</span> After preprocessing the test data, you can get the model's predictions by using `model.predict()`."
      ],
      "text/plain": [
       "Hint: After preprocessing the test data, you can get the model's predictions by using `model.predict()`."
      ]
     },
     "metadata": {},
     "output_type": "display_data"
    },
    {
     "data": {
      "application/javascript": "parent.postMessage({\"jupyterEvent\": \"custom.exercise_interaction\", \"data\": {\"interactionType\": 3, \"questionType\": 2, \"questionId\": \"4.2_PredsCodeB\", \"learnToolsVersion\": \"0.3.4\", \"valueTowardsCompletion\": 0.0, \"failureMessage\": \"\", \"exceptionClass\": \"\", \"trace\": \"\", \"outcomeType\": 4}}, \"*\")",
      "text/plain": [
       "<IPython.core.display.Javascript object>"
      ]
     },
     "metadata": {},
     "output_type": "display_data"
    },
    {
     "data": {
      "text/markdown": [
       "<span style=\"color:#33cc99\">Solution:</span> \n",
       "```python\n",
       "# Preprocess test data\n",
       "final_X_test = pd.DataFrame(final_imputer.transform(X_test))\n",
       "\n",
       "# Get test predictions\n",
       "preds_test = model.predict(final_X_test)\n",
       "\n",
       "```"
      ],
      "text/plain": [
       "Solution: \n",
       "```python\n",
       "# Preprocess test data\n",
       "final_X_test = pd.DataFrame(final_imputer.transform(X_test))\n",
       "\n",
       "# Get test predictions\n",
       "preds_test = model.predict(final_X_test)\n",
       "\n",
       "```"
      ]
     },
     "metadata": {},
     "output_type": "display_data"
    }
   ],
   "source": [
    "# Lines below will give you a hint or solution code\n",
    "step_4.b.hint()\n",
    "step_4.b.solution()"
   ]
  },
  {
   "cell_type": "markdown",
   "id": "e44b2542",
   "metadata": {
    "papermill": {
     "duration": 0.017238,
     "end_time": "2024-03-31T00:11:34.730630",
     "exception": false,
     "start_time": "2024-03-31T00:11:34.713392",
     "status": "completed"
    },
    "tags": []
   },
   "source": [
    "Run the next code cell without changes to save your results to a CSV file that can be submitted directly to the competition."
   ]
  },
  {
   "cell_type": "code",
   "execution_count": 23,
   "id": "1132c58c",
   "metadata": {
    "execution": {
     "iopub.execute_input": "2024-03-31T00:11:34.767336Z",
     "iopub.status.busy": "2024-03-31T00:11:34.766943Z",
     "iopub.status.idle": "2024-03-31T00:11:34.778633Z",
     "shell.execute_reply": "2024-03-31T00:11:34.777687Z"
    },
    "papermill": {
     "duration": 0.032825,
     "end_time": "2024-03-31T00:11:34.780908",
     "exception": false,
     "start_time": "2024-03-31T00:11:34.748083",
     "status": "completed"
    },
    "tags": []
   },
   "outputs": [],
   "source": [
    "# Save test predictions to file\n",
    "output = pd.DataFrame({'Id': X_test.index,\n",
    "                       'SalePrice': preds_test})\n",
    "output.to_csv('submission.csv', index=False)"
   ]
  },
  {
   "cell_type": "markdown",
   "id": "566924db",
   "metadata": {
    "papermill": {
     "duration": 0.01715,
     "end_time": "2024-03-31T00:11:34.850796",
     "exception": false,
     "start_time": "2024-03-31T00:11:34.833646",
     "status": "completed"
    },
    "tags": []
   },
   "source": [
    "---\n",
    "\n",
    "\n",
    "\n",
    "\n",
    "*Have questions or comments? Visit the [course discussion forum](https://www.kaggle.com/learn/intermediate-machine-learning/discussion) to chat with other learners.*"
   ]
  }
 ],
 "metadata": {
  "kaggle": {
   "accelerator": "none",
   "dataSources": [
    {
     "databundleVersionId": 111096,
     "sourceId": 10211,
     "sourceType": "competition"
    }
   ],
   "isGpuEnabled": false,
   "isInternetEnabled": false,
   "language": "python",
   "sourceType": "notebook"
  },
  "kernelspec": {
   "display_name": "Python 3",
   "language": "python",
   "name": "python3"
  },
  "language_info": {
   "codemirror_mode": {
    "name": "ipython",
    "version": 3
   },
   "file_extension": ".py",
   "mimetype": "text/x-python",
   "name": "python",
   "nbconvert_exporter": "python",
   "pygments_lexer": "ipython3",
   "version": "3.10.13"
  },
  "papermill": {
   "default_parameters": {},
   "duration": 12.097921,
   "end_time": "2024-03-31T00:11:35.489247",
   "environment_variables": {},
   "exception": null,
   "input_path": "__notebook__.ipynb",
   "output_path": "__notebook__.ipynb",
   "parameters": {},
   "start_time": "2024-03-31T00:11:23.391326",
   "version": "2.5.0"
  }
 },
 "nbformat": 4,
 "nbformat_minor": 5
}
